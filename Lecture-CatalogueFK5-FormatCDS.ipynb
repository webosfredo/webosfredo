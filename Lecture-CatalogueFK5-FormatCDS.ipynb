{
 "cells": [
  {
   "attachments": {
    "image.png": {
     "image/png": "[encoded data removed]"
    }
   },
   "cell_type": "markdown",
   "metadata": {},
   "source": [
    "# Lecture du catalogue I/149A \n",
    "\n",
    "***\n",
    "\n",
    "Telechargé depuis ftp://cdsarc.u-strasbg.fr/pub/cats/I/149A\n",
    "2 fichiers:\n",
    "\n",
    "* readme\n",
    "* catalog\n",
    "\n",
    "J'ai renommé catalog en 149A-FK5.dat et édité en incluant la section *Byte-by-byte description of the file: catalog* du fichier Readme\n",
    "\n",
    "\n",
    "file:///home/fwrlp/Documents/JUPYTER-NOTEBBOK/catalog/+footg8.gif![image.png](attachment:image.png)"
   ]
  },
  {
   "cell_type": "markdown",
   "metadata": {},
   "source": [
    "Import des bibliotheque Astropy\n",
    "puis chargement du catalogue dans table nommée data"
   ]
  },
  {
   "cell_type": "code",
   "execution_count": 1,
   "metadata": {},
   "outputs": [],
   "source": [
    "from astropy.io import ascii\n",
    "from astropy import units as u\n",
    "from astropy.units import cds\n",
    "cds.enable()\n",
    "from astropy.coordinates import Angle,SkyCoord,ICRS,FK5\n",
    "\n",
    "data = ascii.read('/home/fwrlp/Documents/JUPYTER-NOTEBBOK/catalog/149A-FK5.dat',format='cds')"
   ]
  },
  {
   "cell_type": "code",
   "execution_count": 2,
   "metadata": {},
   "outputs": [
    {
     "name": "stdout",
     "output_type": "stream",
     "text": [
      "<TableColumns names=('FK5','RAh','RAm','RAs','pmRA','DE-','DEd','DEm','DEs','pmDE','RA1950h','RA1950m','RA1950s','pmRA1950','DE1950-','DE1950d','DE1950m','DE1950s','pmDE1950','EpRA-1900','e_RAs','e_pmRA','EpDE-1900','e_DEs','e_pmDE','Vmag','n_Vmag','SpType','plx','RV','AGK3R','SRS','HD','DM','GC')>\n"
     ]
    }
   ],
   "source": [
    "print(data.columns) #donne le nom des chacune des colonnes de la table"
   ]
  },
  {
   "cell_type": "markdown",
   "metadata": {},
   "source": [
    "attribution  d'une table d'indices sur la colonne 'FK5' pour permettre une recherche sur le n° FK5"
   ]
  },
  {
   "cell_type": "code",
   "execution_count": 3,
   "metadata": {},
   "outputs": [],
   "source": [
    "data.add_index('FK5')"
   ]
  },
  {
   "cell_type": "markdown",
   "metadata": {},
   "source": [
    " retrouve le numéro d'indice  (ou numéro de ligne ) de l'étoile  183 (eps Aur)  et le stocke dans la variable idx"
   ]
  },
  {
   "cell_type": "code",
   "execution_count": 4,
   "metadata": {},
   "outputs": [],
   "source": [
    "idx=data.loc_indices[183] "
   ]
  },
  {
   "cell_type": "markdown",
   "metadata": {},
   "source": [
    "**Ascension droite**\n",
    "\n",
    "crée un objet \"astropy.units.quantity.Quantity\" avec les colonnes RAh,RAm,RAs et stocke la valeur dans la variable RAJ2000 en angle horaire (hourangle) \n",
    "RAJ2000 est l'ascension droite de l'étoile 183"
   ]
  },
  {
   "cell_type": "code",
   "execution_count": 5,
   "metadata": {},
   "outputs": [],
   "source": [
    "RAJ2000=(data['RAh'][idx]*u.hourangle+data['RAm'][idx]/60*u.hourangle+data['RAs'][idx]/3600*u.hourangle)"
   ]
  },
  {
   "cell_type": "code",
   "execution_count": 6,
   "metadata": {},
   "outputs": [
    {
     "data": {
      "text/plain": [
       "astropy.units.quantity.Quantity"
      ]
     },
     "execution_count": 6,
     "metadata": {},
     "output_type": "execute_result"
    }
   ],
   "source": [
    "type(RAJ2000) #affiche le type d'objet"
   ]
  },
  {
   "cell_type": "code",
   "execution_count": 7,
   "metadata": {},
   "outputs": [
    {
     "data": {
      "text/latex": [
       "$\\mathrm{{}^{h}}$"
      ],
      "text/plain": [
       "Unit(\"hourangle\")"
      ]
     },
     "execution_count": 7,
     "metadata": {},
     "output_type": "execute_result"
    }
   ],
   "source": [
    "RAJ2000.unit"
   ]
  },
  {
   "cell_type": "code",
   "execution_count": 58,
   "metadata": {},
   "outputs": [
    {
     "data": {
      "text/latex": [
       "$5.0328147 \\; \\mathrm{{}^{h}}$"
      ],
      "text/plain": [
       "<Quantity 5.03281472 hourangle>"
      ]
     },
     "execution_count": 58,
     "metadata": {},
     "output_type": "execute_result"
    }
   ],
   "source": [
    "RAJ2000"
   ]
  },
  {
   "cell_type": "markdown",
   "metadata": {},
   "source": [
    "l'objet crée est un angle horaire... c'est confirmé.\n",
    "\n",
    "pour tester je tente de créer une autre variable AngleRA en utilsant la commande *Angle* et en y affectant l'unité *angle horaire*"
   ]
  },
  {
   "cell_type": "code",
   "execution_count": 18,
   "metadata": {},
   "outputs": [
    {
     "ename": "UnitTypeError",
     "evalue": "Angle instances require units equivalent to 'rad', so cannot set it to 's'.",
     "output_type": "error",
     "traceback": [
      "\u001b[0;31m---------------------------------------------------------------------------\u001b[0m",
      "\u001b[0;31mUnitTypeError\u001b[0m                             Traceback (most recent call last)",
      "\u001b[0;32m<ipython-input-18-1243f5ee0628>\u001b[0m in \u001b[0;36m<module>\u001b[0;34m\u001b[0m\n\u001b[0;32m----> 1\u001b[0;31m \u001b[0mAngleRA\u001b[0m\u001b[0;34m=\u001b[0m\u001b[0mAngle\u001b[0m\u001b[0;34m(\u001b[0m\u001b[0;34m(\u001b[0m\u001b[0mdata\u001b[0m\u001b[0;34m[\u001b[0m\u001b[0;34m'RAh'\u001b[0m\u001b[0;34m]\u001b[0m\u001b[0;34m[\u001b[0m\u001b[0midx\u001b[0m\u001b[0;34m]\u001b[0m\u001b[0;34m,\u001b[0m\u001b[0mdata\u001b[0m\u001b[0;34m[\u001b[0m\u001b[0;34m'RAm'\u001b[0m\u001b[0;34m]\u001b[0m\u001b[0;34m[\u001b[0m\u001b[0midx\u001b[0m\u001b[0;34m]\u001b[0m\u001b[0;34m,\u001b[0m\u001b[0mdata\u001b[0m\u001b[0;34m[\u001b[0m\u001b[0;34m'RAs'\u001b[0m\u001b[0;34m]\u001b[0m\u001b[0;34m)\u001b[0m\u001b[0;34m,\u001b[0m\u001b[0munit\u001b[0m\u001b[0;34m=\u001b[0m\u001b[0mu\u001b[0m\u001b[0;34m.\u001b[0m\u001b[0mhourangle\u001b[0m\u001b[0;34m)\u001b[0m\u001b[0;34m\u001b[0m\u001b[0;34m\u001b[0m\u001b[0m\n\u001b[0m",
      "\u001b[0;32m~/.local/lib/python3.9/site-packages/astropy/coordinates/angles.py\u001b[0m in \u001b[0;36m__new__\u001b[0;34m(cls, angle, unit, dtype, copy, **kwargs)\u001b[0m\n\u001b[1;32m    136\u001b[0m                 \u001b[0mangle\u001b[0m \u001b[0;34m=\u001b[0m \u001b[0;34m[\u001b[0m\u001b[0mAngle\u001b[0m\u001b[0;34m(\u001b[0m\u001b[0mx\u001b[0m\u001b[0;34m,\u001b[0m \u001b[0munit\u001b[0m\u001b[0;34m,\u001b[0m \u001b[0mcopy\u001b[0m\u001b[0;34m=\u001b[0m\u001b[0;32mFalse\u001b[0m\u001b[0;34m)\u001b[0m \u001b[0;32mfor\u001b[0m \u001b[0mx\u001b[0m \u001b[0;32min\u001b[0m \u001b[0mangle\u001b[0m\u001b[0;34m]\u001b[0m\u001b[0;34m\u001b[0m\u001b[0;34m\u001b[0m\u001b[0m\n\u001b[1;32m    137\u001b[0m \u001b[0;34m\u001b[0m\u001b[0m\n\u001b[0;32m--> 138\u001b[0;31m         return super().__new__(cls, angle, unit, dtype=dtype, copy=copy,\n\u001b[0m\u001b[1;32m    139\u001b[0m                                **kwargs)\n\u001b[1;32m    140\u001b[0m \u001b[0;34m\u001b[0m\u001b[0m\n",
      "\u001b[0;32m~/.local/lib/python3.9/site-packages/astropy/units/quantity.py\u001b[0m in \u001b[0;36m__new__\u001b[0;34m(cls, value, unit, dtype, copy, order, subok, ndmin)\u001b[0m\n\u001b[1;32m    395\u001b[0m                 \u001b[0mcls\u001b[0m \u001b[0;34m=\u001b[0m \u001b[0mqcls\u001b[0m\u001b[0;34m\u001b[0m\u001b[0;34m\u001b[0m\u001b[0m\n\u001b[1;32m    396\u001b[0m \u001b[0;34m\u001b[0m\u001b[0m\n\u001b[0;32m--> 397\u001b[0;31m         \u001b[0mvalue\u001b[0m \u001b[0;34m=\u001b[0m \u001b[0mvalue\u001b[0m\u001b[0;34m.\u001b[0m\u001b[0mview\u001b[0m\u001b[0;34m(\u001b[0m\u001b[0mcls\u001b[0m\u001b[0;34m)\u001b[0m\u001b[0;34m\u001b[0m\u001b[0;34m\u001b[0m\u001b[0m\n\u001b[0m\u001b[1;32m    398\u001b[0m         \u001b[0mvalue\u001b[0m\u001b[0;34m.\u001b[0m\u001b[0m_set_unit\u001b[0m\u001b[0;34m(\u001b[0m\u001b[0mvalue_unit\u001b[0m\u001b[0;34m)\u001b[0m\u001b[0;34m\u001b[0m\u001b[0;34m\u001b[0m\u001b[0m\n\u001b[1;32m    399\u001b[0m         \u001b[0;32mif\u001b[0m \u001b[0munit\u001b[0m \u001b[0;32mis\u001b[0m \u001b[0mvalue_unit\u001b[0m\u001b[0;34m:\u001b[0m\u001b[0;34m\u001b[0m\u001b[0;34m\u001b[0m\u001b[0m\n",
      "\u001b[0;32m~/.local/lib/python3.9/site-packages/astropy/units/quantity.py\u001b[0m in \u001b[0;36m__array_finalize__\u001b[0;34m(self, obj)\u001b[0m\n\u001b[1;32m    420\u001b[0m             \u001b[0munit\u001b[0m \u001b[0;34m=\u001b[0m \u001b[0mgetattr\u001b[0m\u001b[0;34m(\u001b[0m\u001b[0mobj\u001b[0m\u001b[0;34m,\u001b[0m \u001b[0;34m'_unit'\u001b[0m\u001b[0;34m,\u001b[0m \u001b[0;32mNone\u001b[0m\u001b[0;34m)\u001b[0m\u001b[0;34m\u001b[0m\u001b[0;34m\u001b[0m\u001b[0m\n\u001b[1;32m    421\u001b[0m             \u001b[0;32mif\u001b[0m \u001b[0munit\u001b[0m \u001b[0;32mis\u001b[0m \u001b[0;32mnot\u001b[0m \u001b[0;32mNone\u001b[0m\u001b[0;34m:\u001b[0m\u001b[0;34m\u001b[0m\u001b[0;34m\u001b[0m\u001b[0m\n\u001b[0;32m--> 422\u001b[0;31m                 \u001b[0mself\u001b[0m\u001b[0;34m.\u001b[0m\u001b[0m_set_unit\u001b[0m\u001b[0;34m(\u001b[0m\u001b[0munit\u001b[0m\u001b[0;34m)\u001b[0m\u001b[0;34m\u001b[0m\u001b[0;34m\u001b[0m\u001b[0m\n\u001b[0m\u001b[1;32m    423\u001b[0m \u001b[0;34m\u001b[0m\u001b[0m\n\u001b[1;32m    424\u001b[0m         \u001b[0;31m# Copy info if the original had `info` defined.  Because of the way the\u001b[0m\u001b[0;34m\u001b[0m\u001b[0;34m\u001b[0m\u001b[0m\n",
      "\u001b[0;32m~/.local/lib/python3.9/site-packages/astropy/coordinates/angles.py\u001b[0m in \u001b[0;36m_set_unit\u001b[0;34m(self, unit)\u001b[0m\n\u001b[1;32m    158\u001b[0m \u001b[0;34m\u001b[0m\u001b[0m\n\u001b[1;32m    159\u001b[0m     \u001b[0;32mdef\u001b[0m \u001b[0m_set_unit\u001b[0m\u001b[0;34m(\u001b[0m\u001b[0mself\u001b[0m\u001b[0;34m,\u001b[0m \u001b[0munit\u001b[0m\u001b[0;34m)\u001b[0m\u001b[0;34m:\u001b[0m\u001b[0;34m\u001b[0m\u001b[0;34m\u001b[0m\u001b[0m\n\u001b[0;32m--> 160\u001b[0;31m         \u001b[0msuper\u001b[0m\u001b[0;34m(\u001b[0m\u001b[0;34m)\u001b[0m\u001b[0;34m.\u001b[0m\u001b[0m_set_unit\u001b[0m\u001b[0;34m(\u001b[0m\u001b[0mself\u001b[0m\u001b[0;34m.\u001b[0m\u001b[0m_convert_unit_to_angle_unit\u001b[0m\u001b[0;34m(\u001b[0m\u001b[0munit\u001b[0m\u001b[0;34m)\u001b[0m\u001b[0;34m)\u001b[0m\u001b[0;34m\u001b[0m\u001b[0;34m\u001b[0m\u001b[0m\n\u001b[0m\u001b[1;32m    161\u001b[0m \u001b[0;34m\u001b[0m\u001b[0m\n\u001b[1;32m    162\u001b[0m     \u001b[0;34m@\u001b[0m\u001b[0mproperty\u001b[0m\u001b[0;34m\u001b[0m\u001b[0;34m\u001b[0m\u001b[0m\n",
      "\u001b[0;32m~/.local/lib/python3.9/site-packages/astropy/units/quantity.py\u001b[0m in \u001b[0;36m_set_unit\u001b[0;34m(self, unit)\u001b[0m\n\u001b[1;32m   1753\u001b[0m     \u001b[0;32mdef\u001b[0m \u001b[0m_set_unit\u001b[0m\u001b[0;34m(\u001b[0m\u001b[0mself\u001b[0m\u001b[0;34m,\u001b[0m \u001b[0munit\u001b[0m\u001b[0;34m)\u001b[0m\u001b[0;34m:\u001b[0m\u001b[0;34m\u001b[0m\u001b[0;34m\u001b[0m\u001b[0m\n\u001b[1;32m   1754\u001b[0m         \u001b[0;32mif\u001b[0m \u001b[0munit\u001b[0m \u001b[0;32mis\u001b[0m \u001b[0;32mNone\u001b[0m \u001b[0;32mor\u001b[0m \u001b[0;32mnot\u001b[0m \u001b[0munit\u001b[0m\u001b[0;34m.\u001b[0m\u001b[0mis_equivalent\u001b[0m\u001b[0;34m(\u001b[0m\u001b[0mself\u001b[0m\u001b[0;34m.\u001b[0m\u001b[0m_equivalent_unit\u001b[0m\u001b[0;34m)\u001b[0m\u001b[0;34m:\u001b[0m\u001b[0;34m\u001b[0m\u001b[0;34m\u001b[0m\u001b[0m\n\u001b[0;32m-> 1755\u001b[0;31m             raise UnitTypeError(\n\u001b[0m\u001b[1;32m   1756\u001b[0m                 \u001b[0;34m\"{} instances require units equivalent to '{}'\"\u001b[0m\u001b[0;34m\u001b[0m\u001b[0;34m\u001b[0m\u001b[0m\n\u001b[1;32m   1757\u001b[0m                 \u001b[0;34m.\u001b[0m\u001b[0mformat\u001b[0m\u001b[0;34m(\u001b[0m\u001b[0mtype\u001b[0m\u001b[0;34m(\u001b[0m\u001b[0mself\u001b[0m\u001b[0;34m)\u001b[0m\u001b[0;34m.\u001b[0m\u001b[0m__name__\u001b[0m\u001b[0;34m,\u001b[0m \u001b[0mself\u001b[0m\u001b[0;34m.\u001b[0m\u001b[0m_equivalent_unit\u001b[0m\u001b[0;34m)\u001b[0m \u001b[0;34m+\u001b[0m\u001b[0;34m\u001b[0m\u001b[0;34m\u001b[0m\u001b[0m\n",
      "\u001b[0;31mUnitTypeError\u001b[0m: Angle instances require units equivalent to 'rad', so cannot set it to 's'."
     ]
    }
   ],
   "source": [
    "AngleRA=Angle((data['RAh'][idx],data['RAm'][idx],data['RAs']),unit=u.hourangle)"
   ]
  },
  {
   "cell_type": "markdown",
   "metadata": {},
   "source": [
    "et.... ça ne marche pas...\n",
    "\n",
    "\n"
   ]
  },
  {
   "cell_type": "markdown",
   "metadata": {},
   "source": [
    "  **au tour des données de déclinaison...**\n",
    "  \n",
    "  la colonne  'DE-' contient le caractère \"+\" ou \"-\" qui correspond au signe de la déclinaison \n",
    "  on teste s'il est égal à \"+\" .\n",
    "  Si c'est vrai le signe est positif sinon c'est négatif (+1 ou -1 dans la variable signDecJ2000"
   ]
  },
  {
   "cell_type": "code",
   "execution_count": 8,
   "metadata": {},
   "outputs": [],
   "source": [
    "if data['DE-'][idx]== '+':\n",
    "    signDecJ2000=1\n",
    "else:\n",
    "    signDecJ2000=-1"
   ]
  },
  {
   "cell_type": "markdown",
   "metadata": {},
   "source": [
    "Ensuite on crée un objet \"astropy.units.quantity.Quantity\" avec les colonnes DEd,DEm,DEs et stocke la valeur dans la variable RAJ2000 en degré décimaux (deg ) afecté du signe de signDecJ2000\n",
    "DecJ2000 est la déclinaison de l'étoile 183"
   ]
  },
  {
   "cell_type": "code",
   "execution_count": 9,
   "metadata": {},
   "outputs": [],
   "source": [
    "DecJ2000=signDecJ2000*(data['DEd'][idx]*u.deg+data['DEm'][idx]*u.arcmin+data['DEs'][idx]*u.arcsec)"
   ]
  },
  {
   "cell_type": "code",
   "execution_count": 10,
   "metadata": {},
   "outputs": [
    {
     "data": {
      "text/plain": [
       "astropy.units.quantity.Quantity"
      ]
     },
     "execution_count": 10,
     "metadata": {},
     "output_type": "execute_result"
    }
   ],
   "source": [
    "type(DecJ2000)"
   ]
  },
  {
   "cell_type": "code",
   "execution_count": 11,
   "metadata": {},
   "outputs": [
    {
     "data": {
      "text/latex": [
       "$\\mathrm{{}^{\\circ}}$"
      ],
      "text/plain": [
       "Unit(\"deg\")"
      ]
     },
     "execution_count": 11,
     "metadata": {},
     "output_type": "execute_result"
    }
   ],
   "source": [
    "DecJ2000.unit"
   ]
  },
  {
   "cell_type": "markdown",
   "metadata": {},
   "source": [
    "l'objet crée est en degré... c'est confirmé.\n",
    "\n",
    "**Objet coordonnées**\n",
    "\n",
    "On crée maintenant un objet coordonnées dans le système de référence fk5 (en cohérence avec les données du catalogue chargé."
   ]
  },
  {
   "cell_type": "code",
   "execution_count": 19,
   "metadata": {},
   "outputs": [],
   "source": [
    "Eqc=SkyCoord(RAJ2000,DecJ2000,unit=(u.hourangle, u.deg),frame='fk5')"
   ]
  },
  {
   "cell_type": "code",
   "execution_count": 20,
   "metadata": {},
   "outputs": [
    {
     "data": {
      "text/plain": [
       "astropy.coordinates.sky_coordinate.SkyCoord"
      ]
     },
     "execution_count": 20,
     "metadata": {},
     "output_type": "execute_result"
    }
   ],
   "source": [
    "type(Eqc)"
   ]
  },
  {
   "cell_type": "code",
   "execution_count": 14,
   "metadata": {},
   "outputs": [
    {
     "ename": "AttributeError",
     "evalue": "'SkyCoord' object has no attribute 'unit'",
     "output_type": "error",
     "traceback": [
      "\u001b[0;31m---------------------------------------------------------------------------\u001b[0m",
      "\u001b[0;31mAttributeError\u001b[0m                            Traceback (most recent call last)",
      "\u001b[0;32m<ipython-input-14-baeccab8fa98>\u001b[0m in \u001b[0;36m<module>\u001b[0;34m\u001b[0m\n\u001b[0;32m----> 1\u001b[0;31m \u001b[0mEqc\u001b[0m\u001b[0;34m.\u001b[0m\u001b[0munit\u001b[0m\u001b[0;34m\u001b[0m\u001b[0;34m\u001b[0m\u001b[0m\n\u001b[0m",
      "\u001b[0;32m~/.local/lib/python3.9/site-packages/astropy/coordinates/sky_coordinate.py\u001b[0m in \u001b[0;36m__getattr__\u001b[0;34m(self, attr)\u001b[0m\n\u001b[1;32m    833\u001b[0m \u001b[0;34m\u001b[0m\u001b[0m\n\u001b[1;32m    834\u001b[0m         \u001b[0;31m# Fail\u001b[0m\u001b[0;34m\u001b[0m\u001b[0;34m\u001b[0m\u001b[0m\n\u001b[0;32m--> 835\u001b[0;31m         raise AttributeError(\"'{}' object has no attribute '{}'\"\n\u001b[0m\u001b[1;32m    836\u001b[0m                              .format(self.__class__.__name__, attr))\n\u001b[1;32m    837\u001b[0m \u001b[0;34m\u001b[0m\u001b[0m\n",
      "\u001b[0;31mAttributeError\u001b[0m: 'SkyCoord' object has no attribute 'unit'"
     ]
    }
   ],
   "source": [
    "Eqc.unit"
   ]
  },
  {
   "cell_type": "markdown",
   "metadata": {},
   "source": [
    "Il n'est pas possible d'extraire les unités dans l'objet *coordonnées* défini..\n",
    "\n",
    "En revanche c'est possible de le faire en \"*extrayant*\" les coordonnées d'ascension droite\n",
    "\n",
    "On voit cependant que l'ascension droite est maintenant en Degrés"
   ]
  },
  {
   "cell_type": "code",
   "execution_count": 21,
   "metadata": {},
   "outputs": [
    {
     "data": {
      "text/plain": [
       "astropy.coordinates.angles.Longitude"
      ]
     },
     "execution_count": 21,
     "metadata": {},
     "output_type": "execute_result"
    }
   ],
   "source": [
    "type(Eqc.ra)"
   ]
  },
  {
   "cell_type": "code",
   "execution_count": 22,
   "metadata": {},
   "outputs": [
    {
     "data": {
      "text/latex": [
       "$\\mathrm{{}^{\\circ}}$"
      ],
      "text/plain": [
       "Unit(\"deg\")"
      ]
     },
     "execution_count": 22,
     "metadata": {},
     "output_type": "execute_result"
    }
   ],
   "source": [
    "(Eqc.ra).unit"
   ]
  },
  {
   "cell_type": "markdown",
   "metadata": {},
   "source": [
    "Malgré le fait d'avoir précisé l'unité *angle horaire* dans la commande *skycoord* l'uniyé de  l'ascension drtoite est en degré\n",
    "\n",
    "Je tente de réafficher la valeur d'ascension droite dans un format *horaire* mais ça ne marche pas"
   ]
  },
  {
   "cell_type": "code",
   "execution_count": 23,
   "metadata": {},
   "outputs": [
    {
     "ename": "AttributeError",
     "evalue": "Longitude instance has no attribute 'hms'",
     "output_type": "error",
     "traceback": [
      "\u001b[0;31m---------------------------------------------------------------------------\u001b[0m",
      "\u001b[0;31mAttributeError\u001b[0m                            Traceback (most recent call last)",
      "\u001b[0;32m<ipython-input-23-2215dbd560a8>\u001b[0m in \u001b[0;36m<module>\u001b[0;34m\u001b[0m\n\u001b[0;32m----> 1\u001b[0;31m \u001b[0mEqc\u001b[0m\u001b[0;34m.\u001b[0m\u001b[0mra\u001b[0m\u001b[0;34m.\u001b[0m\u001b[0mhms\u001b[0m\u001b[0;34m\u001b[0m\u001b[0;34m\u001b[0m\u001b[0m\n\u001b[0m",
      "\u001b[0;32m~/.local/lib/python3.9/site-packages/astropy/units/quantity.py\u001b[0m in \u001b[0;36m__getattr__\u001b[0;34m(self, attr)\u001b[0m\n\u001b[1;32m    864\u001b[0m \u001b[0;34m\u001b[0m\u001b[0m\n\u001b[1;32m    865\u001b[0m         \u001b[0;32mif\u001b[0m \u001b[0mvalue\u001b[0m \u001b[0;32mis\u001b[0m \u001b[0;32mNone\u001b[0m\u001b[0;34m:\u001b[0m\u001b[0;34m\u001b[0m\u001b[0;34m\u001b[0m\u001b[0m\n\u001b[0;32m--> 866\u001b[0;31m             raise AttributeError(\n\u001b[0m\u001b[1;32m    867\u001b[0m                 f\"{self.__class__.__name__} instance has no attribute '{attr}'\")\n\u001b[1;32m    868\u001b[0m         \u001b[0;32melse\u001b[0m\u001b[0;34m:\u001b[0m\u001b[0;34m\u001b[0m\u001b[0;34m\u001b[0m\u001b[0m\n",
      "\u001b[0;31mAttributeError\u001b[0m: Longitude instance has no attribute 'hms'"
     ]
    }
   ],
   "source": [
    "Eqc.ra.hms"
   ]
  },
  {
   "cell_type": "markdown",
   "metadata": {},
   "source": [
    "de manière détournée, pour afficher les valeurs h m s de l'ascension droite, je divise par 15 pour affichze ls bonnes valeurs numériques mais avec de mauvaises unités  ° ' '' au lieu de h mn sec"
   ]
  },
  {
   "cell_type": "code",
   "execution_count": 24,
   "metadata": {},
   "outputs": [
    {
     "data": {
      "text/latex": [
       "$5^\\circ01{}^\\prime58.133{}^{\\prime\\prime}$"
      ],
      "text/plain": [
       "<Angle 5.03281472 deg>"
      ]
     },
     "execution_count": 24,
     "metadata": {},
     "output_type": "execute_result"
    }
   ],
   "source": [
    "Eqc.ra/15"
   ]
  },
  {
   "cell_type": "markdown",
   "metadata": {},
   "source": [
    "J'affiche la declinaison ... sans problème d'affichage de coordonnées puisque elle est en degrés"
   ]
  },
  {
   "cell_type": "code",
   "execution_count": 25,
   "metadata": {},
   "outputs": [
    {
     "data": {
      "text/latex": [
       "$43^\\circ49{}^\\prime23.83{}^{\\prime\\prime}$"
      ],
      "text/plain": [
       "<Latitude 43.82328611 deg>"
      ]
     },
     "execution_count": 25,
     "metadata": {},
     "output_type": "execute_result"
    }
   ],
   "source": [
    "Eqc.dec"
   ]
  },
  {
   "cell_type": "code",
   "execution_count": 27,
   "metadata": {},
   "outputs": [
    {
     "data": {
      "text/plain": [
       "'75d29m31.995s +43d49m23.83s'"
      ]
     },
     "execution_count": 27,
     "metadata": {},
     "output_type": "execute_result"
    }
   ],
   "source": [
    "rahmsstr = Eqc.ra.to_string()\n",
    "str(rahmsstr)\n",
    "\n",
    "decdmsstr = Eqc.dec.to_string(u.degree, alwayssign=True)\n",
    "str(decdmsstr)\n",
    "\n",
    "rahmsstr + ' ' + decdmsstr\n",
    "\n"
   ]
  },
  {
   "cell_type": "markdown",
   "metadata": {},
   "source": [
    "A fin de comparer je charge les coordonnées depuis la base de données Simbad sur internet"
   ]
  },
  {
   "cell_type": "code",
   "execution_count": 28,
   "metadata": {},
   "outputs": [],
   "source": [
    "EqcSimbad=SkyCoord.from_name(\"eps AUR\")"
   ]
  },
  {
   "cell_type": "markdown",
   "metadata": {},
   "source": [
    "J'ai toujours le même problème d'affichage des angles horaire don j'utilise le \"subterfuge\" de diviser par 15 pour avoir les *bonnes* valeurs numériques."
   ]
  },
  {
   "cell_type": "code",
   "execution_count": 29,
   "metadata": {},
   "outputs": [
    {
     "data": {
      "text/latex": [
       "$5^\\circ01{}^\\prime58.1290608{}^{\\prime\\prime}$"
      ],
      "text/plain": [
       "<Angle 5.03281363 deg>"
      ]
     },
     "execution_count": 29,
     "metadata": {},
     "output_type": "execute_result"
    }
   ],
   "source": [
    "EqcSimbad.ra/15"
   ]
  },
  {
   "cell_type": "code",
   "execution_count": null,
   "metadata": {},
   "outputs": [],
   "source": []
  },
  {
   "cell_type": "code",
   "execution_count": 30,
   "metadata": {},
   "outputs": [
    {
     "data": {
      "text/latex": [
       "$43^\\circ49{}^\\prime23.87136{}^{\\prime\\prime}$"
      ],
      "text/plain": [
       "<Latitude 43.8232976 deg>"
      ]
     },
     "execution_count": 30,
     "metadata": {},
     "output_type": "execute_result"
    }
   ],
   "source": [
    "EqcSimbad.dec"
   ]
  },
  {
   "cell_type": "markdown",
   "metadata": {},
   "source": [
    "*Trouver les coordonnées équatoriales de la date du 1er juillet 2021* \n",
    "\n",
    "-On calcule l'intervalle de temps avec la référence J2000 et on applique ensuite les vitesses propres\n",
    "-puis trouver les coordonnées *de la date* en changeant l'écliptique J2021"
   ]
  },
  {
   "cell_type": "code",
   "execution_count": 31,
   "metadata": {},
   "outputs": [],
   "source": [
    "from astropy.time import Time\n",
    "Datetxt='2021-07-01T00:00:00'\n",
    "Date0=Time(Datetxt)#Date du jour obs\n",
    "J2000=Time('2000-01-01T00:00:00')#OrigineJ2000"
   ]
  },
  {
   "cell_type": "code",
   "execution_count": 32,
   "metadata": {},
   "outputs": [],
   "source": [
    "TpsPass=Date0-J2000#tps ecoulé depuis J2000"
   ]
  },
  {
   "cell_type": "markdown",
   "metadata": {},
   "source": [
    "dans le fichier *readme* associé au catalogue, la colonne pmRA (vitesse propre en ascension droite) est exprimée en seconde d'angle horaire par centaine d'année  (s/ha)... \n",
    "\n",
    "*s/ha     pmRA      Proper motion in RA (J2000.0)*\n",
    "\n",
    "Je fait déjà un test pour savoir si le module Atsropy.unit reconnaite cette unité..\n",
    "\n",
    "\n",
    "Je converti 100 années (*yr*) en hectoAnnée (*hyr*) pour voir si ça marche...  "
   ]
  },
  {
   "cell_type": "code",
   "execution_count": 33,
   "metadata": {},
   "outputs": [
    {
     "data": {
      "text/latex": [
       "$1 \\; \\mathrm{hyr}$"
      ],
      "text/plain": [
       "<Quantity 1. hyr>"
      ]
     },
     "execution_count": 33,
     "metadata": {},
     "output_type": "execute_result"
    }
   ],
   "source": [
    "#vérif que 100 ans correspondent bien à une \"hectoAnnée\" (hyr)\n",
    "(100*u.yr).to(u.hyr) "
   ]
  },
  {
   "cell_type": "markdown",
   "metadata": {},
   "source": [
    "Et ça marche !!!\n",
    "\n",
    "**Vitesse propre en Ascension droite**"
   ]
  },
  {
   "cell_type": "code",
   "execution_count": 34,
   "metadata": {},
   "outputs": [
    {
     "data": {
      "text/plain": [
       "-0.006"
      ]
     },
     "execution_count": 34,
     "metadata": {},
     "output_type": "execute_result"
    }
   ],
   "source": [
    "#rappel de la valeur numérique de la donnée catalogue :\n",
    "data['pmRA'][idx]"
   ]
  },
  {
   "cell_type": "markdown",
   "metadata": {},
   "source": [
    "**Vitesse propre en Déclinaison**"
   ]
  },
  {
   "cell_type": "code",
   "execution_count": 35,
   "metadata": {},
   "outputs": [
    {
     "data": {
      "text/plain": [
       "-0.38"
      ]
     },
     "execution_count": 35,
     "metadata": {},
     "output_type": "execute_result"
    }
   ],
   "source": [
    "#rappel de la valeur numérique de la donnée catalogue:\n",
    "data['pmDE'][idx]"
   ]
  },
  {
   "cell_type": "markdown",
   "metadata": {},
   "source": [
    "Vitesse de déplacement en Ascension droite\n",
    "on divise par 3600 pour pouvoir l'exprimer en \n",
    "angle horaire par siecle (hourangle/hyr)"
   ]
  },
  {
   "cell_type": "code",
   "execution_count": 38,
   "metadata": {},
   "outputs": [],
   "source": [
    "\n",
    "VRa=(data['pmRA'][idx]/3600)*u.hourangle/u.hyr\n",
    "\n"
   ]
  },
  {
   "cell_type": "markdown",
   "metadata": {},
   "source": [
    "Vitesse de déplacement en Declinaison exrpimée en arcsec/hyr\n",
    "\n"
   ]
  },
  {
   "cell_type": "code",
   "execution_count": 42,
   "metadata": {},
   "outputs": [],
   "source": [
    "VDe=(data['pmDE'][idx])*u.arcsec/u.hyr"
   ]
  },
  {
   "cell_type": "markdown",
   "metadata": {},
   "source": [
    "je calcule valeur du déplacement en ascension droite sur 100 année"
   ]
  },
  {
   "cell_type": "code",
   "execution_count": 39,
   "metadata": {},
   "outputs": [
    {
     "data": {
      "text/latex": [
       "$-1.6666667 \\times 10^{-6} \\; \\mathrm{{}^{h}}$"
      ],
      "text/plain": [
       "<Quantity -1.66666667e-06 hourangle>"
      ]
     },
     "execution_count": 39,
     "metadata": {},
     "output_type": "execute_result"
    }
   ],
   "source": [
    "\n",
    "RADeplVal=(VRa*100*u.yr)\n",
    "RADeplVal.to(u.hourangle)"
   ]
  },
  {
   "cell_type": "markdown",
   "metadata": {},
   "source": [
    "A priori, il n'est pas possible de convertir directement en seconde, mais en multipliant cette donnée par 3600 je doits retrouver la valeur numérique du catalogue"
   ]
  },
  {
   "cell_type": "code",
   "execution_count": 40,
   "metadata": {},
   "outputs": [
    {
     "data": {
      "text/latex": [
       "$-0.006 \\; \\mathrm{{}^{h}}$"
      ],
      "text/plain": [
       "<Quantity -0.006 hourangle>"
      ]
     },
     "execution_count": 40,
     "metadata": {},
     "output_type": "execute_result"
    }
   ],
   "source": [
    "3600*(RADeplVal.to(u.hourangle))"
   ]
  },
  {
   "cell_type": "markdown",
   "metadata": {},
   "source": [
    "c'est ok sauf qu'au lieu d'afficher des secondes il affiche des heures.."
   ]
  },
  {
   "cell_type": "code",
   "execution_count": 43,
   "metadata": {},
   "outputs": [
    {
     "data": {
      "text/latex": [
       "$-0.38 \\; \\mathrm{{}^{\\prime\\prime}}$"
      ],
      "text/plain": [
       "<Quantity -0.38 arcsec>"
      ]
     },
     "execution_count": 43,
     "metadata": {},
     "output_type": "execute_result"
    }
   ],
   "source": [
    "#valeur du déplacement en déclinaison sur 100 année\n",
    "DEDeplVal=(VDe*100*u.yr).decompose()\n",
    "DEDeplVal.to(u.arcsec)"
   ]
  },
  {
   "cell_type": "markdown",
   "metadata": {},
   "source": [
    "Valeur numérique et unité OK\n",
    "\n",
    "**Calcul du déplacement effectif sur la période qui nous interresse**"
   ]
  },
  {
   "cell_type": "code",
   "execution_count": 44,
   "metadata": {},
   "outputs": [],
   "source": [
    "DeplRA=TpsPass*VRa\n",
    "DeplDE=TpsPass*VDe"
   ]
  },
  {
   "cell_type": "code",
   "execution_count": 45,
   "metadata": {},
   "outputs": [
    {
     "data": {
      "text/latex": [
       "$-3.5829341 \\times 10^{-7} \\; \\mathrm{{}^{h}}$"
      ],
      "text/plain": [
       "<Quantity -3.58293409e-07 hourangle>"
      ]
     },
     "execution_count": 45,
     "metadata": {},
     "output_type": "execute_result"
    }
   ],
   "source": [
    "DeplRA.to(u.hourangle)"
   ]
  },
  {
   "cell_type": "markdown",
   "metadata": {},
   "source": [
    "en secondes ça donne:"
   ]
  },
  {
   "cell_type": "code",
   "execution_count": 57,
   "metadata": {},
   "outputs": [
    {
     "data": {
      "text/latex": [
       "$-0.0012898563 \\; \\mathrm{{}^{h}}$"
      ],
      "text/plain": [
       "<Quantity -0.00128986 hourangle>"
      ]
     },
     "execution_count": 57,
     "metadata": {},
     "output_type": "execute_result"
    }
   ],
   "source": [
    "DeplRA.to(u.hourangle)*3600"
   ]
  },
  {
   "cell_type": "code",
   "execution_count": 46,
   "metadata": {},
   "outputs": [
    {
     "data": {
      "text/latex": [
       "$-0.081690897 \\; \\mathrm{{}^{\\prime\\prime}}$"
      ],
      "text/plain": [
       "<Quantity -0.0816909 arcsec>"
      ]
     },
     "execution_count": 46,
     "metadata": {},
     "output_type": "execute_result"
    }
   ],
   "source": [
    "DeplDE.to(u.arcsec)"
   ]
  },
  {
   "cell_type": "markdown",
   "metadata": {},
   "source": [
    "Calcul des coordonées **déplacées** dans le référentiel FK5*"
   ]
  },
  {
   "cell_type": "code",
   "execution_count": 51,
   "metadata": {},
   "outputs": [],
   "source": [
    "EqcMove=SkyCoord(RAJ2000+DeplRA,DecJ2000+DeplDE,frame='fk5')"
   ]
  },
  {
   "cell_type": "markdown",
   "metadata": {},
   "source": [
    "Puis replacées dans le référentiel des coordonnées ecliptiques J2021"
   ]
  },
  {
   "cell_type": "code",
   "execution_count": 54,
   "metadata": {},
   "outputs": [],
   "source": [
    "EqcNow=EqcMove.transform_to(FK5(equinox='J2021'))\n"
   ]
  },
  {
   "cell_type": "code",
   "execution_count": 55,
   "metadata": {},
   "outputs": [
    {
     "data": {
      "text/latex": [
       "$5^\\circ03{}^\\prime28.81076686{}^{\\prime\\prime}$"
      ],
      "text/plain": [
       "<Angle 5.05800299 deg>"
      ]
     },
     "execution_count": 55,
     "metadata": {},
     "output_type": "execute_result"
    }
   ],
   "source": [
    "EqcNow.ra/15"
   ]
  },
  {
   "cell_type": "code",
   "execution_count": 56,
   "metadata": {},
   "outputs": [
    {
     "data": {
      "text/latex": [
       "$43^\\circ51{}^\\prime07.82973402{}^{\\prime\\prime}$"
      ],
      "text/plain": [
       "<Latitude 43.85217493 deg>"
      ]
     },
     "execution_count": 56,
     "metadata": {},
     "output_type": "execute_result"
    }
   ],
   "source": [
    "EqcNow.dec"
   ]
  },
  {
   "cell_type": "markdown",
   "metadata": {},
   "source": [
    "**Vérification**\n",
    "\n",
    "pour le 1er juillet le logiciel Stellarium me donne \n",
    "\n",
    "AD  de la date 5h03m29.59s   pres de 1s d'écart\n",
    "\n",
    "Dec de la date 43°51'11.7\" pres de 4\" d'ecart\n",
    "\n",
    "et les ephémérides du bdl dans le guide des données \n",
    "astronomique 2021\n",
    "\n",
    "AD  5h01m58.1s  \n",
    "\n",
    "Dec 43°49'24\"\n"
   ]
  },
  {
   "cell_type": "markdown",
   "metadata": {},
   "source": [
    "Pour finir je fait une vérif à partir des coordonnées issues de FK5 , affectées des valeurs de déplacement mais sans changement d'epoque..."
   ]
  },
  {
   "cell_type": "code",
   "execution_count": 60,
   "metadata": {},
   "outputs": [
    {
     "data": {
      "text/plain": [
       "(<Quantity 5.03281436 hourangle>, <Quantity 43.82326342 deg>)"
      ]
     },
     "execution_count": 60,
     "metadata": {},
     "output_type": "execute_result"
    }
   ],
   "source": [
    "RAJ2000+DeplRA,DecJ2000+DeplDE"
   ]
  },
  {
   "cell_type": "markdown",
   "metadata": {},
   "source": [
    "qui correspond à:\n",
    "    \n",
    "5h01m58.13s et 43°49'23.7\"\n",
    "\n",
    "ce qui est plus proche des donnés BDL mais très eloigné de Stellarium\n",
    "\n",
    "\n",
    "**TEST avec coordonnées SIMBAD**\n",
    "\n"
   ]
  },
  {
   "cell_type": "code",
   "execution_count": 63,
   "metadata": {},
   "outputs": [
    {
     "data": {
      "text/plain": [
       "(<Angle 5.03281327 deg>, <Angle 43.82327491 deg>)"
      ]
     },
     "execution_count": 63,
     "metadata": {},
     "output_type": "execute_result"
    }
   ],
   "source": [
    "(EqcSimbad.ra+DeplRA)/15,EqcSimbad.dec+DeplDE"
   ]
  },
  {
   "cell_type": "markdown",
   "metadata": {},
   "source": [
    "qui correspond à:\n",
    "    \n",
    "5h01m58.12.7s et 43°49'23.78\"\n",
    "\n",
    "également très proches des valeurs données par BDL"
   ]
  },
  {
   "cell_type": "markdown",
   "metadata": {},
   "source": [
    "**conclusion**\n",
    "le passage à l'époque J2021 est inutile si on applique les valeurs de déplacement\n",
    "\n",
    "En revanche je ne comprend pas l'écart avec les valeurs affichées par Stellarium..\n",
    "\n"
   ]
  }
 ],
 "metadata": {
  "kernelspec": {
   "display_name": "Python 3",
   "language": "python",
   "name": "python3"
  },
  "language_info": {
   "codemirror_mode": {
    "name": "ipython",
    "version": 3
   },
   "file_extension": ".py",
   "mimetype": "text/x-python",
   "name": "python",
   "nbconvert_exporter": "python",
   "pygments_lexer": "ipython3",
   "version": "3.9.7"
  }
 },
 "nbformat": 4,
 "nbformat_minor": 4
}
